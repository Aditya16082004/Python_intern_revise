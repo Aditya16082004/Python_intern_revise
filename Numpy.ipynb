{
 "cells": [
  {
   "cell_type": "markdown",
   "id": "35a5475f",
   "metadata": {},
   "source": [
    "# Introduction to NumPy\n",
    "\n",
    "NumPy (Numerical Python) is a fundamental library for numerical operations in Python. It provides efficient support for large, multi-dimensional arrays and matrices, along with a collection of high-level mathematical functions to operate on these arrays.\n",
    "Benefits of using NumPy over standard Python lists:\n",
    "NumPy arrays are more compact in memory and faster in execution.\n",
    "NumPy provides a wide range of mathematical functions and operations optimized for scientific computing.\n",
    "NumPy arrays can be easily integrated with other scientific computing libraries like SciPy and Matplotlib.\n",
    "Installing NumPy\n",
    "\n",
    "\n",
    "You can install NumPy using the Python package installer pip:"
   ]
  },
  {
   "cell_type": "code",
   "execution_count": 1,
   "id": "b90f4bf7",
   "metadata": {},
   "outputs": [
    {
     "name": "stdout",
     "output_type": "stream",
     "text": [
      "Requirement already satisfied: numpy in c:\\users\\vishn\\anaconda3\\lib\\site-packages (1.26.2)\n",
      "Note: you may need to restart the kernel to use updated packages.\n"
     ]
    }
   ],
   "source": [
    "pip install numpy"
   ]
  },
  {
   "cell_type": "code",
   "execution_count": 2,
   "id": "cedd46d2",
   "metadata": {},
   "outputs": [
    {
     "name": "stdout",
     "output_type": "stream",
     "text": [
      "1.26.2\n"
     ]
    }
   ],
   "source": [
    "import numpy as np\n",
    "print(np.__version__)"
   ]
  },
  {
   "cell_type": "code",
   "execution_count": 3,
   "id": "7efff3b1",
   "metadata": {},
   "outputs": [
    {
     "name": "stdout",
     "output_type": "stream",
     "text": [
      "(5,)\n",
      "(2, 3)\n",
      "(2, 2, 2)\n"
     ]
    }
   ],
   "source": [
    "# 1D array\n",
    "a = np.array([1, 2, 3, 4, 5])\n",
    "print(a.shape)  \n",
    "\n",
    "# 2D array\n",
    "b = np.array([[1, 2, 3], [4, 5, 6]])\n",
    "print(b.shape)  \n",
    "\n",
    "# 3D array\n",
    "c = np.array([[[1, 2], [3, 4]], [[5, 6], [7, 8]]])\n",
    "print(c.shape)  "
   ]
  },
  {
   "cell_type": "code",
   "execution_count": 4,
   "id": "de8eeb5e",
   "metadata": {},
   "outputs": [
    {
     "name": "stdout",
     "output_type": "stream",
     "text": [
      "5\n"
     ]
    }
   ],
   "source": [
    "a = np.array([1, 2, 3, 4, 5])\n",
    "print(a.size) "
   ]
  },
  {
   "cell_type": "code",
   "execution_count": 5,
   "id": "c2a3bae8",
   "metadata": {},
   "outputs": [
    {
     "name": "stdout",
     "output_type": "stream",
     "text": [
      "int32\n",
      "float64\n",
      "complex128\n",
      "bool\n"
     ]
    }
   ],
   "source": [
    "# Integer array\n",
    "a = np.array([1, 2, 3, 4, 5])\n",
    "print(a.dtype) \n",
    "\n",
    "# Float array\n",
    "b = np.array([1.0, 2.0, 3.0])\n",
    "print(b.dtype)  \n",
    "\n",
    "# Complex array\n",
    "c = np.array([1+2j, 3+4j])\n",
    "print(c.dtype)  \n",
    "\n",
    "# Boolean array\n",
    "d = np.array([True, False, True])\n",
    "print(d.dtype)  "
   ]
  },
  {
   "cell_type": "code",
   "execution_count": 6,
   "id": "84cfe729",
   "metadata": {},
   "outputs": [
    {
     "name": "stdout",
     "output_type": "stream",
     "text": [
      "[1. 2. 3.]\n",
      "float32\n"
     ]
    }
   ],
   "source": [
    "# Create an array with float32 data type\n",
    "a = np.array([1, 2, 3], dtype=np.float32)\n",
    "print(a)        \n",
    "print(a.dtype) "
   ]
  },
  {
   "cell_type": "code",
   "execution_count": 7,
   "id": "a6fcf06e",
   "metadata": {},
   "outputs": [
    {
     "name": "stdout",
     "output_type": "stream",
     "text": [
      "[1 2 3]\n",
      "int16\n"
     ]
    }
   ],
   "source": [
    "# Create an array with int16 data type\n",
    "b = np.array([1, 2, 3], dtype=np.int16)\n",
    "print(b)        \n",
    "print(b.dtype)  "
   ]
  },
  {
   "cell_type": "code",
   "execution_count": 8,
   "id": "25beb698",
   "metadata": {},
   "outputs": [
    {
     "name": "stdout",
     "output_type": "stream",
     "text": [
      "[1 2 3 4 5]\n"
     ]
    }
   ],
   "source": [
    "# From a list\n",
    "a = np.array([1, 2, 3, 4, 5])\n",
    "print(a)  "
   ]
  },
  {
   "cell_type": "code",
   "execution_count": 9,
   "id": "9f140d34",
   "metadata": {},
   "outputs": [
    {
     "name": "stdout",
     "output_type": "stream",
     "text": [
      "[1 2 3 4 5]\n"
     ]
    }
   ],
   "source": [
    "# From a list\n",
    "c = [1, 2, 3, 4, 5]\n",
    "a = np.asarray(c)\n",
    "print(a)  "
   ]
  },
  {
   "cell_type": "code",
   "execution_count": 10,
   "id": "2f3722e9",
   "metadata": {},
   "outputs": [
    {
     "name": "stdout",
     "output_type": "stream",
     "text": [
      "[10 20 30]\n"
     ]
    }
   ],
   "source": [
    "# From a tuple\n",
    "d = (10, 20, 30)\n",
    "b = np.asarray(d)\n",
    "print(b)  "
   ]
  },
  {
   "cell_type": "code",
   "execution_count": 11,
   "id": "4446b03f",
   "metadata": {},
   "outputs": [
    {
     "name": "stdout",
     "output_type": "stream",
     "text": [
      "[1. 1. 1. 1. 1.]\n"
     ]
    }
   ],
   "source": [
    "# Create a 1D array of ones\n",
    "a = np.ones(5)\n",
    "print(a)  "
   ]
  },
  {
   "cell_type": "code",
   "execution_count": 12,
   "id": "6f52c8c4",
   "metadata": {},
   "outputs": [
    {
     "name": "stdout",
     "output_type": "stream",
     "text": [
      "[[1. 1. 1. 1.]\n",
      " [1. 1. 1. 1.]\n",
      " [1. 1. 1. 1.]]\n"
     ]
    }
   ],
   "source": [
    "# Create a 2D array of ones with shape (3, 4)\n",
    "b = np.ones((3, 4))\n",
    "print(b)"
   ]
  },
  {
   "cell_type": "code",
   "execution_count": 13,
   "id": "71a70b4f",
   "metadata": {},
   "outputs": [
    {
     "name": "stdout",
     "output_type": "stream",
     "text": [
      "[0. 0. 0. 0. 0.]\n"
     ]
    }
   ],
   "source": [
    "# Create a 1D array of zeros\n",
    "a = np.zeros(5)\n",
    "print(a)  "
   ]
  },
  {
   "cell_type": "code",
   "execution_count": 14,
   "id": "18faa782",
   "metadata": {},
   "outputs": [
    {
     "name": "stdout",
     "output_type": "stream",
     "text": [
      "[[0. 0. 0.]\n",
      " [0. 0. 0.]]\n"
     ]
    }
   ],
   "source": [
    "# Create a 2D array of zeros with shape (2, 3)\n",
    "b = np.zeros((2, 3))\n",
    "print(b)"
   ]
  },
  {
   "cell_type": "code",
   "execution_count": 15,
   "id": "e9cc5e12",
   "metadata": {},
   "outputs": [
    {
     "name": "stdout",
     "output_type": "stream",
     "text": [
      "[0. 0. 0. 0. 0.]\n"
     ]
    }
   ],
   "source": [
    "# Create an uninitialized 1D array\n",
    "a = np.empty(5)\n",
    "print(a)"
   ]
  },
  {
   "cell_type": "code",
   "execution_count": 16,
   "id": "e6551d0e",
   "metadata": {},
   "outputs": [
    {
     "name": "stdout",
     "output_type": "stream",
     "text": [
      "[[0. 0. 0.]\n",
      " [0. 0. 0.]]\n"
     ]
    }
   ],
   "source": [
    "# Create an uninitialized 2D array with shape (2, 3)\n",
    "b = np.empty((2, 3))\n",
    "print(b)"
   ]
  },
  {
   "cell_type": "code",
   "execution_count": 17,
   "id": "52bb6cdf",
   "metadata": {},
   "outputs": [
    {
     "name": "stdout",
     "output_type": "stream",
     "text": [
      "[0 1 2 3 4 5 6 7 8 9]\n"
     ]
    }
   ],
   "source": [
    "# Create a sequence from 0 to 9\n",
    "a = np.arange(10)\n",
    "print(a)  "
   ]
  },
  {
   "cell_type": "code",
   "execution_count": 18,
   "id": "58a9f056",
   "metadata": {},
   "outputs": [
    {
     "name": "stdout",
     "output_type": "stream",
     "text": [
      "[ 2  4  6  8 10]\n"
     ]
    }
   ],
   "source": [
    "# Create a sequence from 2 to 10 with step size 2\n",
    "b = np.arange(2, 11, 2)\n",
    "print(b)  "
   ]
  },
  {
   "cell_type": "code",
   "execution_count": 19,
   "id": "984197a9",
   "metadata": {},
   "outputs": [
    {
     "name": "stdout",
     "output_type": "stream",
     "text": [
      "[0.   0.25 0.5  0.75 1.  ]\n"
     ]
    }
   ],
   "source": [
    "# Create an array with 5 evenly spaced values between 0 and 1\n",
    "a = np.linspace(0, 1, 5)\n",
    "print(a) "
   ]
  },
  {
   "cell_type": "code",
   "execution_count": 20,
   "id": "828f515c",
   "metadata": {},
   "outputs": [
    {
     "name": "stdout",
     "output_type": "stream",
     "text": [
      "[ 0.    1.25  2.5   3.75  5.    6.25  7.5   8.75 10.  ]\n"
     ]
    }
   ],
   "source": [
    "# Create an array with 9 evenly spaced values between 0 and 10\n",
    "b = np.linspace(0, 10, 9)\n",
    "print(b)"
   ]
  },
  {
   "cell_type": "code",
   "execution_count": 21,
   "id": "3aa0bff3",
   "metadata": {},
   "outputs": [
    {
     "name": "stdout",
     "output_type": "stream",
     "text": [
      "[[1. 0.]\n",
      " [0. 1.]]\n"
     ]
    }
   ],
   "source": [
    "# Create a 2x2 identity matrix\n",
    "a = np.eye(2)\n",
    "print(a)"
   ]
  },
  {
   "cell_type": "code",
   "execution_count": 22,
   "id": "7968683a",
   "metadata": {},
   "outputs": [
    {
     "name": "stdout",
     "output_type": "stream",
     "text": [
      "[[1. 0. 0.]\n",
      " [0. 1. 0.]\n",
      " [0. 0. 1.]]\n"
     ]
    }
   ],
   "source": [
    "# Create a 3x3 identity matrix\n",
    "a = np.eye(3)\n",
    "print(a)"
   ]
  },
  {
   "cell_type": "markdown",
   "id": "c1f00c07",
   "metadata": {},
   "source": [
    "# 1. Basic Array Operations"
   ]
  },
  {
   "cell_type": "code",
   "execution_count": 23,
   "id": "054c8bb1",
   "metadata": {},
   "outputs": [
    {
     "name": "stdout",
     "output_type": "stream",
     "text": [
      "[5 7 9]\n"
     ]
    }
   ],
   "source": [
    "a = np.array([1, 2, 3])\n",
    "b = np.array([4, 5, 6])\n",
    "\n",
    "c = a + b\n",
    "print(c)"
   ]
  },
  {
   "cell_type": "code",
   "execution_count": 24,
   "id": "341d0ab1",
   "metadata": {},
   "outputs": [
    {
     "name": "stdout",
     "output_type": "stream",
     "text": [
      "[ 4 10 18]\n"
     ]
    }
   ],
   "source": [
    "a = np.array([1, 2, 3])\n",
    "b = np.array([4, 5, 6])\n",
    "\n",
    "c = a * b\n",
    "print(c)  "
   ]
  },
  {
   "cell_type": "code",
   "execution_count": 25,
   "id": "b96e21ef",
   "metadata": {},
   "outputs": [
    {
     "name": "stdout",
     "output_type": "stream",
     "text": [
      "[4.  2.5 2. ]\n"
     ]
    }
   ],
   "source": [
    "a = np.array([1, 2, 3])\n",
    "b = np.array([4, 5, 6])\n",
    "\n",
    "c = b / a\n",
    "print(c)  "
   ]
  },
  {
   "cell_type": "code",
   "execution_count": 26,
   "id": "8f6370d4",
   "metadata": {},
   "outputs": [
    {
     "name": "stdout",
     "output_type": "stream",
     "text": [
      "[2 4 6]\n",
      "[0.5 1.  1.5]\n"
     ]
    }
   ],
   "source": [
    "a = np.array([1, 2, 3])\n",
    "\n",
    "b = a * 2\n",
    "print(b)  \n",
    "\n",
    "c = a / 2\n",
    "print(c) "
   ]
  },
  {
   "cell_type": "code",
   "execution_count": 27,
   "id": "98291a66",
   "metadata": {},
   "outputs": [
    {
     "name": "stdout",
     "output_type": "stream",
     "text": [
      "[1. 2. 3.]\n"
     ]
    }
   ],
   "source": [
    "a = np.array([1, 4, 9])\n",
    "\n",
    "b = np.sqrt(a)\n",
    "print(b) "
   ]
  },
  {
   "cell_type": "code",
   "execution_count": 28,
   "id": "b3972d76",
   "metadata": {},
   "outputs": [
    {
     "name": "stdout",
     "output_type": "stream",
     "text": [
      "[ 2.71828183  7.3890561  20.08553692]\n"
     ]
    }
   ],
   "source": [
    "a = np.array([1, 2, 3])\n",
    "\n",
    "b = np.exp(a)\n",
    "print(b) "
   ]
  },
  {
   "cell_type": "code",
   "execution_count": 29,
   "id": "4587abe4",
   "metadata": {},
   "outputs": [
    {
     "name": "stdout",
     "output_type": "stream",
     "text": [
      "1\n",
      "4\n"
     ]
    }
   ],
   "source": [
    "# 1D array\n",
    "a = np.array([1, 2, 3, 4, 5])\n",
    "print(a[0])  \n",
    "print(a[3])  "
   ]
  },
  {
   "cell_type": "code",
   "execution_count": 30,
   "id": "9cd790ea",
   "metadata": {},
   "outputs": [
    {
     "name": "stdout",
     "output_type": "stream",
     "text": [
      "1\n",
      "8\n"
     ]
    }
   ],
   "source": [
    "# 2D array\n",
    "b = np.array([[1, 2, 3], [4, 5, 6], [7, 8, 9]])\n",
    "print(b[0, 0])  \n",
    "print(b[2, 1])  "
   ]
  },
  {
   "cell_type": "code",
   "execution_count": 31,
   "id": "e0af70dd",
   "metadata": {},
   "outputs": [
    {
     "name": "stdout",
     "output_type": "stream",
     "text": [
      "[1 3 5]\n"
     ]
    }
   ],
   "source": [
    "# 1D array\n",
    "a = np.array([1, 2, 3, 4, 5])\n",
    "indices = np.array([0, 2, 4])\n",
    "print(a[indices])"
   ]
  },
  {
   "cell_type": "code",
   "execution_count": 32,
   "id": "87fe4242",
   "metadata": {},
   "outputs": [
    {
     "name": "stdout",
     "output_type": "stream",
     "text": [
      "[1 9]\n"
     ]
    }
   ],
   "source": [
    "# 2D array\n",
    "b = np.array([[1, 2, 3], [4, 5, 6], [7, 8, 9]])\n",
    "rows = np.array([0, 2])\n",
    "cols = np.array([0, 2])\n",
    "print(b[rows, cols])"
   ]
  },
  {
   "cell_type": "code",
   "execution_count": 33,
   "id": "ce122299",
   "metadata": {},
   "outputs": [
    {
     "name": "stdout",
     "output_type": "stream",
     "text": [
      "[4 5]\n"
     ]
    }
   ],
   "source": [
    "a = np.array([1, 2, 3, 4, 5])\n",
    "print(a[a > 3])"
   ]
  },
  {
   "cell_type": "code",
   "execution_count": 34,
   "id": "20878f66",
   "metadata": {},
   "outputs": [
    {
     "name": "stdout",
     "output_type": "stream",
     "text": [
      "[6 7 8 9]\n"
     ]
    }
   ],
   "source": [
    "b = np.array([[1, 2, 3], [4, 5, 6], [7, 8, 9]])\n",
    "print(b[b > 5]) "
   ]
  },
  {
   "cell_type": "code",
   "execution_count": 35,
   "id": "bab6b1f3",
   "metadata": {},
   "outputs": [
    {
     "name": "stdout",
     "output_type": "stream",
     "text": [
      "[3 4 5 6]\n",
      "[1 2 3 4]\n",
      "[6 7 8 9]\n",
      "[1 3 5 7 9]\n",
      "[9 8 7 6 5 4 3 2 1]\n"
     ]
    }
   ],
   "source": [
    "a = np.array([1, 2, 3, 4, 5, 6, 7, 8, 9])\n",
    "print(a[2:6])  \n",
    "print(a[:4])   \n",
    "print(a[5:])   \n",
    "print(a[::2])\n",
    "print(a[::-1]) "
   ]
  },
  {
   "cell_type": "code",
   "execution_count": 36,
   "id": "00a38f4e",
   "metadata": {},
   "outputs": [
    {
     "name": "stdout",
     "output_type": "stream",
     "text": [
      "[[1 2]\n",
      " [4 5]]\n",
      "[2 5 8]\n",
      "[[4 5]\n",
      " [7 8]]\n"
     ]
    }
   ],
   "source": [
    "b = np.array([[1, 2, 3], [4, 5, 6], [7, 8, 9]])\n",
    "print(b[0:2, 0:2])  \n",
    "print(b[:, 1])      \n",
    "print(b[1:, :2])    "
   ]
  },
  {
   "cell_type": "code",
   "execution_count": 37,
   "id": "35b52b50",
   "metadata": {},
   "outputs": [
    {
     "name": "stdout",
     "output_type": "stream",
     "text": [
      "(6,)\n",
      "[[1 2 3]\n",
      " [4 5 6]]\n",
      "[[[1 2 3]]\n",
      "\n",
      " [[4 5 6]]]\n"
     ]
    }
   ],
   "source": [
    "a = np.array([1, 2, 3, 4, 5, 6])\n",
    "print(a.shape)  \n",
    "\n",
    "# Reshape to a 2D array\n",
    "b = a.reshape(2, 3)\n",
    "print(b)\n",
    "\n",
    "# Reshape to a 3D array\n",
    "c = a.reshape(2, 1, 3)\n",
    "print(c)"
   ]
  },
  {
   "cell_type": "code",
   "execution_count": 38,
   "id": "714db9e6",
   "metadata": {},
   "outputs": [
    {
     "name": "stdout",
     "output_type": "stream",
     "text": [
      "[[1 2 3]\n",
      " [4 5 6]]\n",
      "[1 2 3 4 5 6]\n",
      "[[1 2]\n",
      " [3 4]\n",
      " [5 6]\n",
      " [7 8]]\n"
     ]
    }
   ],
   "source": [
    "a = np.array([1, 2, 3])\n",
    "b = np.array([4, 5, 6])\n",
    "\n",
    "# Concatenate along a new axis (stacking)\n",
    "c = np.stack((a, b))\n",
    "print(c)\n",
    "\n",
    "# Concatenate along an existing axis (horizontal)\n",
    "d = np.concatenate((a, b), axis=None)\n",
    "print(d)  \n",
    "\n",
    "# Concatenate along an existing axis (vertical)\n",
    "e = np.array([[1, 2], [3, 4]])\n",
    "f = np.array([[5, 6], [7, 8]])\n",
    "g = np.concatenate((e, f), axis=0)\n",
    "print(g)"
   ]
  },
  {
   "cell_type": "code",
   "execution_count": 39,
   "id": "8bb33c74",
   "metadata": {},
   "outputs": [
    {
     "name": "stdout",
     "output_type": "stream",
     "text": [
      "[1 2 3 4]\n",
      "[[1 2]\n",
      " [3 4]]\n",
      "[[1 3]\n",
      " [2 4]]\n"
     ]
    }
   ],
   "source": [
    "a = np.array([1, 2])\n",
    "b = np.array([3, 4])\n",
    "\n",
    "# Stack arrays horizontally\n",
    "c = np.hstack((a, b))\n",
    "print(c)\n",
    "\n",
    "# Stack arrays vertically\n",
    "d = np.vstack((a, b))\n",
    "print(d)\n",
    "\n",
    "# Stack arrays along a new axis\n",
    "e = np.stack((a, b), axis=1)\n",
    "print(e)"
   ]
  },
  {
   "cell_type": "code",
   "execution_count": 40,
   "id": "f7845395",
   "metadata": {},
   "outputs": [
    {
     "name": "stdout",
     "output_type": "stream",
     "text": [
      "Horizontal split:\n",
      "Left sub-array:\n",
      " [[ 1  2]\n",
      " [ 5  6]\n",
      " [ 9 10]\n",
      " [13 14]]\n",
      "Right sub-array:\n",
      " [[ 3  4]\n",
      " [ 7  8]\n",
      " [11 12]\n",
      " [15 16]]\n"
     ]
    }
   ],
   "source": [
    "# Create a 2D array\n",
    "a = np.array([[1, 2, 3, 4],\n",
    "              [5, 6, 7, 8],\n",
    "              [9, 10, 11, 12],\n",
    "              [13, 14, 15, 16]])\n",
    "\n",
    "# Split the array horizontally into 2 sub-arrays\n",
    "left, right = np.hsplit(a, 2)\n",
    "print(\"Horizontal split:\")\n",
    "print(\"Left sub-array:\\n\", left)\n",
    "print(\"Right sub-array:\\n\", right)"
   ]
  },
  {
   "cell_type": "code",
   "execution_count": 41,
   "id": "f0d410e7",
   "metadata": {},
   "outputs": [
    {
     "name": "stdout",
     "output_type": "stream",
     "text": [
      "[1 2 3 4 5]\n",
      "[[1 2]\n",
      " [3 4]\n",
      " [5 6]]\n"
     ]
    }
   ],
   "source": [
    "a = np.array([1, 2, 3])\n",
    "b = np.append(a, [4, 5])\n",
    "print(b)  \n",
    "\n",
    "c = np.array([[1, 2], [3, 4]])\n",
    "d = np.append(c, [[5, 6]], axis=0)\n",
    "print(d)"
   ]
  },
  {
   "cell_type": "code",
   "execution_count": 42,
   "id": "a377ef25",
   "metadata": {},
   "outputs": [
    {
     "name": "stdout",
     "output_type": "stream",
     "text": [
      "[ 1  2 10 20  3  4  5]\n",
      "[[ 1 10  2]\n",
      " [ 3 20  4]]\n"
     ]
    }
   ],
   "source": [
    "a = np.array([1, 2, 3, 4, 5])\n",
    "b = np.insert(a, 2, [10, 20])\n",
    "print(b) \n",
    "\n",
    "c = np.array([[1, 2], [3, 4]])\n",
    "d = np.insert(c, 1, [10, 20], axis=1)\n",
    "print(d)"
   ]
  },
  {
   "cell_type": "code",
   "execution_count": 43,
   "id": "9127fedd",
   "metadata": {},
   "outputs": [
    {
     "name": "stdout",
     "output_type": "stream",
     "text": [
      "[2 4 5]\n",
      "[[1 3]\n",
      " [4 6]]\n"
     ]
    }
   ],
   "source": [
    "a = np.array([1, 2, 3, 4, 5])\n",
    "b = np.delete(a, [0, 2])\n",
    "print(b) \n",
    "\n",
    "c = np.array([[1, 2, 3], [4, 5, 6]])\n",
    "d = np.delete(c, 1, axis=1)\n",
    "print(d)"
   ]
  },
  {
   "cell_type": "code",
   "execution_count": null,
   "id": "bdd54fa5",
   "metadata": {},
   "outputs": [],
   "source": []
  },
  {
   "cell_type": "code",
   "execution_count": null,
   "id": "3e152313",
   "metadata": {},
   "outputs": [],
   "source": []
  },
  {
   "cell_type": "code",
   "execution_count": null,
   "id": "48583eff",
   "metadata": {},
   "outputs": [],
   "source": []
  },
  {
   "cell_type": "code",
   "execution_count": null,
   "id": "1df6c3be",
   "metadata": {},
   "outputs": [],
   "source": []
  },
  {
   "cell_type": "code",
   "execution_count": null,
   "id": "125bb8e2",
   "metadata": {},
   "outputs": [],
   "source": []
  },
  {
   "cell_type": "code",
   "execution_count": null,
   "id": "b69df5cd",
   "metadata": {},
   "outputs": [],
   "source": []
  }
 ],
 "metadata": {
  "kernelspec": {
   "display_name": "Python 3 (ipykernel)",
   "language": "python",
   "name": "python3"
  },
  "language_info": {
   "codemirror_mode": {
    "name": "ipython",
    "version": 3
   },
   "file_extension": ".py",
   "mimetype": "text/x-python",
   "name": "python",
   "nbconvert_exporter": "python",
   "pygments_lexer": "ipython3",
   "version": "3.9.12"
  }
 },
 "nbformat": 4,
 "nbformat_minor": 5
}
